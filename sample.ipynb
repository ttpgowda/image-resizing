{
 "cells": [
  {
   "metadata": {},
   "cell_type": "markdown",
   "source": [
    "# This is a sample Jupyter Notebook\n",
    "\n",
    "Below is an example of a code cell. \n",
    "Put your cursor into the cell and press Shift+Enter to execute it and select the next one, or click !here goes the icon of the corresponding button in the gutter! button.\n",
    "To debug a cell, press Alt+Shift+Enter, or click !here goes the icon of the corresponding button in the gutter! button.\n",
    "\n",
    "Press Double Shift to search everywhere for classes, files, tool windows, actions, and settings.\n",
    "\n",
    "To learn more about Jupyter Notebooks in PyCharm, see [help](https://www.jetbrains.com/help/pycharm/jupyter-notebook-support.html).\n",
    "For an overview of PyCharm, go to Help -> Learn IDE features or refer to [our documentation](https://www.jetbrains.com/help/pycharm/getting-started.html)."
   ],
   "id": "8a77807f92f26ee"
  },
  {
   "metadata": {
    "ExecuteTime": {
     "end_time": "2025-01-10T18:59:40.238369Z",
     "start_time": "2025-01-10T18:59:25.383587Z"
    }
   },
   "cell_type": "code",
   "source": "pip install pillow",
   "id": "fbc121e30a2defb3",
   "outputs": [
    {
     "name": "stdout",
     "output_type": "stream",
     "text": [
      "Requirement already satisfied: pillow in c:\\users\\user\\anaconda3\\lib\\site-packages (10.2.0)\n",
      "Note: you may need to restart the kernel to use updated packages.\n"
     ]
    }
   ],
   "execution_count": 3
  },
  {
   "metadata": {},
   "cell_type": "markdown",
   "source": "",
   "id": "1a5fd9521ab5751a"
  },
  {
   "metadata": {},
   "cell_type": "markdown",
   "source": "for image Resizing",
   "id": "b8ab4ae795012f42"
  },
  {
   "metadata": {
    "ExecuteTime": {
     "end_time": "2025-01-10T19:20:33.196473Z",
     "start_time": "2025-01-10T19:20:31.746377Z"
    }
   },
   "cell_type": "code",
   "source": [
    "import os\n",
    "from PIL import Image\n",
    "\n",
    "# Specify the input and output folders\n",
    "input_folder = \"blog-images\"\n",
    "resized_folder = \"resized_images\"\n",
    "os.makedirs(resized_folder, exist_ok=True)  # Create output folder if it doesn't exist\n",
    "\n",
    "# Desired dimensions for resizing\n",
    "target_width = 600\n",
    "target_height = 358\n",
    "\n",
    "# Loop through all files in the input folder\n",
    "for filename in os.listdir(input_folder):\n",
    "    if filename.endswith((\".jpg\", \".jpeg\", \".png\")):  # Process only image files\n",
    "        input_path = os.path.join(input_folder, filename)\n",
    "        output_path = os.path.join(resized_folder, filename)\n",
    "        \n",
    "        try:\n",
    "            with Image.open(input_path) as img:\n",
    "                # Resize the image\n",
    "                resized_img = img.resize((target_width, target_height))\n",
    "                # Save the resized image to the output folder\n",
    "                resized_img.save(output_path)\n",
    "                print(f\"Resized and saved: {filename}\")\n",
    "        except Exception as e:\n",
    "            print(f\"Error processing {filename}: {e}\")\n",
    "\n",
    "print(\"Image resizing completed.\")\n"
   ],
   "id": "cd85d8d81eb50133",
   "outputs": [
    {
     "name": "stdout",
     "output_type": "stream",
     "text": [
      "Resized and saved: 10-essential-budgeting-tips-to-take-control-of-your-finances.jpeg\n",
      "Resized and saved: approval.jpeg\n",
      "Resized and saved: budget-panning.jpeg\n",
      "Resized and saved: business.jpeg\n",
      "Resized and saved: cash-flow.jpeg\n",
      "Resized and saved: debt-free.jpeg\n",
      "Resized and saved: diversification_vq.jpeg\n",
      "Resized and saved: economic-gowth.jpeg\n",
      "Resized and saved: emergency-fund.jpeg\n",
      "Resized and saved: financial-diversification.jpeg\n",
      "Resized and saved: financial-freedom.jpeg\n",
      "Resized and saved: financial-goals.jpeg\n",
      "Resized and saved: financial-literacy.jpeg\n",
      "Resized and saved: financial-risk.jpeg\n",
      "Resized and saved: financial-security.jpeg\n",
      "Resized and saved: income-tax.jpeg\n",
      "Resized and saved: investment-growth.jpeg\n",
      "Resized and saved: loan-or-debt-management.jpeg\n",
      "Resized and saved: passive-cncome.jpeg\n",
      "Resized and saved: pension-plans.jpeg\n",
      "Resized and saved: real-estate-investment.jpeg\n",
      "Resized and saved: real-estate-investment_v2.jpeg\n",
      "Resized and saved: retirment-planning.jpeg\n",
      "Resized and saved: savings.jpeg\n",
      "Resized and saved: stock-market.jpeg\n",
      "Resized and saved: tax-filing.jpeg\n",
      "Resized and saved: wealth-creation-v3.jpeg\n",
      "Resized and saved: wealth-creation.jpeg\n",
      "Resized and saved: wealth-creation_v2.jpeg\n",
      "Resized and saved: wealth-managment.jpeg\n",
      "Image resizing completed.\n"
     ]
    }
   ],
   "execution_count": 11
  },
  {
   "metadata": {},
   "cell_type": "code",
   "outputs": [],
   "execution_count": null,
   "source": "",
   "id": "440eb4e82b2b15ab"
  },
  {
   "metadata": {},
   "cell_type": "markdown",
   "source": "Image Compressing ",
   "id": "c9a389ceea9b95d7"
  },
  {
   "metadata": {
    "ExecuteTime": {
     "end_time": "2025-01-10T19:10:17.083591Z",
     "start_time": "2025-01-10T19:10:10.089661Z"
    }
   },
   "cell_type": "code",
   "source": [
    "import os\n",
    "from PIL import Image\n",
    "\n",
    "# Paths for the input and output folders\n",
    "input_folder = \"resized_images\"  # Folder containing original images\n",
    "output_folder = \"compressed_images\"  # Folder to store compressed images\n",
    "os.makedirs(output_folder, exist_ok=True)  # Create output folder if it doesn't exist\n",
    "\n",
    "# Compression settings\n",
    "compression_quality = 85  # Quality level for compression (1-100, higher is better)\n",
    "supported_formats = (\".jpg\", \".jpeg\", \".png\")  # File types to process\n",
    "\n",
    "# Compress all images\n",
    "for file_name in os.listdir(input_folder):\n",
    "    if file_name.lower().endswith(supported_formats):  # Check for supported file formats\n",
    "        input_path = os.path.join(input_folder, file_name)\n",
    "        output_path = os.path.join(output_folder, file_name)\n",
    "\n",
    "        try:\n",
    "            # Open the image\n",
    "            with Image.open(input_path) as img:\n",
    "                # Remove metadata and compress the image\n",
    "                img.save(output_path, format=img.format, optimize=True, quality=compression_quality)\n",
    "                print(f\"Compressed and saved: {file_name}\")\n",
    "        except Exception as e:\n",
    "            print(f\"Error compressing {file_name}: {e}\")\n",
    "\n",
    "print(\"All images have been processed!\")"
   ],
   "id": "205f36900212bdc1",
   "outputs": [
    {
     "name": "stdout",
     "output_type": "stream",
     "text": [
      "Compressed and saved: 10-essential-budgeting-tips-to-take-control-of-your-finances.jpeg\n",
      "Compressed and saved: approval.jpeg\n",
      "Compressed and saved: budget-panning.jpeg\n",
      "Compressed and saved: business.jpeg\n",
      "Compressed and saved: cash-flow.jpeg\n",
      "Compressed and saved: debt-free.jpeg\n",
      "Compressed and saved: diversification_vq.jpeg\n",
      "Compressed and saved: economic-gowth.jpeg\n",
      "Compressed and saved: emergency-fund.jpeg\n",
      "Compressed and saved: financial-diversification.jpeg\n",
      "Compressed and saved: financial-freedom.jpeg\n",
      "Compressed and saved: financial-goals.jpeg\n",
      "Compressed and saved: financial-literacy.jpeg\n",
      "Compressed and saved: financial-risk.jpeg\n",
      "Compressed and saved: financial-security.jpeg\n",
      "Compressed and saved: income-tax.jpeg\n",
      "Compressed and saved: investment-growth.jpeg\n",
      "Compressed and saved: loan-or-debt-management.jpeg\n",
      "Compressed and saved: passive-cncome.jpeg\n",
      "Compressed and saved: pension-plans.jpeg\n",
      "Compressed and saved: real-estate-investment.jpeg\n",
      "Compressed and saved: real-estate-investment_v2.jpeg\n",
      "Compressed and saved: retirment-planning.jpeg\n",
      "Compressed and saved: savings.jpeg\n",
      "Compressed and saved: stock-market.jpeg\n",
      "Compressed and saved: tax-filing.jpeg\n",
      "Compressed and saved: wealth-creation-v3.jpeg\n",
      "Compressed and saved: wealth-creation.jpeg\n",
      "Compressed and saved: wealth-creation_v2.jpeg\n",
      "Compressed and saved: wealth-managment.jpeg\n",
      "All images have been processed!\n"
     ]
    }
   ],
   "execution_count": 8
  },
  {
   "metadata": {},
   "cell_type": "code",
   "outputs": [],
   "execution_count": null,
   "source": "",
   "id": "f7a8ee0a90dadc5c"
  }
 ],
 "metadata": {
  "kernelspec": {
   "display_name": "Python 3",
   "language": "python",
   "name": "python3"
  },
  "language_info": {
   "codemirror_mode": {
    "name": "ipython",
    "version": 2
   },
   "file_extension": ".py",
   "mimetype": "text/x-python",
   "name": "python",
   "nbconvert_exporter": "python",
   "pygments_lexer": "ipython2",
   "version": "2.7.6"
  }
 },
 "nbformat": 4,
 "nbformat_minor": 5
}
